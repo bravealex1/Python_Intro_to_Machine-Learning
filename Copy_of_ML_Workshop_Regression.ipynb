{
  "nbformat": 4,
  "nbformat_minor": 0,
  "metadata": {
    "colab": {
      "provenance": [],
      "include_colab_link": true
    },
    "kernelspec": {
      "name": "python3",
      "display_name": "Python 3"
    },
    "language_info": {
      "name": "python"
    }
  },
  "cells": [
    {
      "cell_type": "markdown",
      "metadata": {
        "id": "view-in-github",
        "colab_type": "text"
      },
      "source": [
        "<a href=\"https://colab.research.google.com/github/bravealex1/Python_Intro_to_Machine-Learning/blob/main/Copy_of_ML_Workshop_Regression.ipynb\" target=\"_parent\"><img src=\"https://colab.research.google.com/assets/colab-badge.svg\" alt=\"Open In Colab\"/></a>"
      ]
    },
    {
      "cell_type": "code",
      "execution_count": null,
      "metadata": {
        "id": "08KbwA0ocSa3"
      },
      "outputs": [],
      "source": [
        "from sklearn.linear_model import LinearRegression\n",
        "\n",
        "from sklearn.linear_model import Lasso\n",
        "\n",
        "from sklearn.model_selection import train_test_split\n",
        "\n",
        "from sklearn.preprocessing import LabelEncoder\n",
        "\n",
        "from sklearn.metrics import mean_squared_error\n",
        "\n",
        "import pandas as pd\n",
        "\n",
        "import numpy as np\n",
        "\n",
        "\n",
        "\n",
        "\n",
        "\n"
      ]
    },
    {
      "cell_type": "code",
      "source": [
        "happy = pd.read_csv('https://raw.githubusercontent.com/Nittany-Data-Labs/ML_Workshop_Python/main/Data/Happy2017.csv',index_col = 0)\n",
        "\n",
        "happy "
      ],
      "metadata": {
        "colab": {
          "base_uri": "https://localhost:8080/",
          "height": 522
        },
        "id": "HtG9GEtdeCHu",
        "outputId": "d641a41f-02f1-4b81-9932-24a41246dad0"
      },
      "execution_count": null,
      "outputs": [
        {
          "output_type": "execute_result",
          "data": {
            "text/plain": [
              "                      Country  Happiness.Rank  Happiness.Score  Whisker.high  \\\n",
              "0                      Norway               1            7.537      7.594445   \n",
              "1                     Denmark               2            7.522      7.581728   \n",
              "2                     Iceland               3            7.504      7.622030   \n",
              "3                 Switzerland               4            7.494      7.561772   \n",
              "4                     Finland               5            7.469      7.527542   \n",
              "..                        ...             ...              ...           ...   \n",
              "150                    Rwanda             151            3.471      3.543030   \n",
              "151                     Syria             152            3.462      3.663669   \n",
              "152                  Tanzania             153            3.349      3.461430   \n",
              "153                   Burundi             154            2.905      3.074690   \n",
              "154  Central African Republic             155            2.693      2.864884   \n",
              "\n",
              "     Whisker.low  Economy..GDP.per.Capita.    Family  \\\n",
              "0       7.479556                  1.616463  1.533524   \n",
              "1       7.462272                  1.482383  1.551122   \n",
              "2       7.385970                  1.480633  1.610574   \n",
              "3       7.426227                  1.564980  1.516912   \n",
              "4       7.410458                  1.443572  1.540247   \n",
              "..           ...                       ...       ...   \n",
              "150     3.398970                  0.368746  0.945707   \n",
              "151     3.260331                  0.777153  0.396103   \n",
              "152     3.236570                  0.511136  1.041990   \n",
              "153     2.735310                  0.091623  0.629794   \n",
              "154     2.521116                  0.000000  0.000000   \n",
              "\n",
              "     Health..Life.Expectancy.   Freedom  Generosity  \\\n",
              "0                    0.796667  0.635423    0.362012   \n",
              "1                    0.792566  0.626007    0.355280   \n",
              "2                    0.833552  0.627163    0.475540   \n",
              "3                    0.858131  0.620071    0.290549   \n",
              "4                    0.809158  0.617951    0.245483   \n",
              "..                        ...       ...         ...   \n",
              "150                  0.326425  0.581844    0.252756   \n",
              "151                  0.500533  0.081539    0.493664   \n",
              "152                  0.364509  0.390018    0.354256   \n",
              "153                  0.151611  0.059901    0.204435   \n",
              "154                  0.018773  0.270842    0.280876   \n",
              "\n",
              "     Trust..Government.Corruption.  Dystopia.Residual  Least.Developed  \n",
              "0                         0.315964           2.277027            False  \n",
              "1                         0.400770           2.313707            False  \n",
              "2                         0.153527           2.322715            False  \n",
              "3                         0.367007           2.276716            False  \n",
              "4                         0.382612           2.430182            False  \n",
              "..                             ...                ...              ...  \n",
              "150                       0.455220           0.540061             True  \n",
              "151                       0.151347           1.061574            False  \n",
              "152                       0.066035           0.621130            False  \n",
              "153                       0.084148           1.683024             True  \n",
              "154                       0.056565           2.066005             True  \n",
              "\n",
              "[155 rows x 13 columns]"
            ],
            "text/html": [
              "\n",
              "  <div id=\"df-94be9733-c8f9-4f9b-ae53-333224d62207\">\n",
              "    <div class=\"colab-df-container\">\n",
              "      <div>\n",
              "<style scoped>\n",
              "    .dataframe tbody tr th:only-of-type {\n",
              "        vertical-align: middle;\n",
              "    }\n",
              "\n",
              "    .dataframe tbody tr th {\n",
              "        vertical-align: top;\n",
              "    }\n",
              "\n",
              "    .dataframe thead th {\n",
              "        text-align: right;\n",
              "    }\n",
              "</style>\n",
              "<table border=\"1\" class=\"dataframe\">\n",
              "  <thead>\n",
              "    <tr style=\"text-align: right;\">\n",
              "      <th></th>\n",
              "      <th>Country</th>\n",
              "      <th>Happiness.Rank</th>\n",
              "      <th>Happiness.Score</th>\n",
              "      <th>Whisker.high</th>\n",
              "      <th>Whisker.low</th>\n",
              "      <th>Economy..GDP.per.Capita.</th>\n",
              "      <th>Family</th>\n",
              "      <th>Health..Life.Expectancy.</th>\n",
              "      <th>Freedom</th>\n",
              "      <th>Generosity</th>\n",
              "      <th>Trust..Government.Corruption.</th>\n",
              "      <th>Dystopia.Residual</th>\n",
              "      <th>Least.Developed</th>\n",
              "    </tr>\n",
              "  </thead>\n",
              "  <tbody>\n",
              "    <tr>\n",
              "      <th>0</th>\n",
              "      <td>Norway</td>\n",
              "      <td>1</td>\n",
              "      <td>7.537</td>\n",
              "      <td>7.594445</td>\n",
              "      <td>7.479556</td>\n",
              "      <td>1.616463</td>\n",
              "      <td>1.533524</td>\n",
              "      <td>0.796667</td>\n",
              "      <td>0.635423</td>\n",
              "      <td>0.362012</td>\n",
              "      <td>0.315964</td>\n",
              "      <td>2.277027</td>\n",
              "      <td>False</td>\n",
              "    </tr>\n",
              "    <tr>\n",
              "      <th>1</th>\n",
              "      <td>Denmark</td>\n",
              "      <td>2</td>\n",
              "      <td>7.522</td>\n",
              "      <td>7.581728</td>\n",
              "      <td>7.462272</td>\n",
              "      <td>1.482383</td>\n",
              "      <td>1.551122</td>\n",
              "      <td>0.792566</td>\n",
              "      <td>0.626007</td>\n",
              "      <td>0.355280</td>\n",
              "      <td>0.400770</td>\n",
              "      <td>2.313707</td>\n",
              "      <td>False</td>\n",
              "    </tr>\n",
              "    <tr>\n",
              "      <th>2</th>\n",
              "      <td>Iceland</td>\n",
              "      <td>3</td>\n",
              "      <td>7.504</td>\n",
              "      <td>7.622030</td>\n",
              "      <td>7.385970</td>\n",
              "      <td>1.480633</td>\n",
              "      <td>1.610574</td>\n",
              "      <td>0.833552</td>\n",
              "      <td>0.627163</td>\n",
              "      <td>0.475540</td>\n",
              "      <td>0.153527</td>\n",
              "      <td>2.322715</td>\n",
              "      <td>False</td>\n",
              "    </tr>\n",
              "    <tr>\n",
              "      <th>3</th>\n",
              "      <td>Switzerland</td>\n",
              "      <td>4</td>\n",
              "      <td>7.494</td>\n",
              "      <td>7.561772</td>\n",
              "      <td>7.426227</td>\n",
              "      <td>1.564980</td>\n",
              "      <td>1.516912</td>\n",
              "      <td>0.858131</td>\n",
              "      <td>0.620071</td>\n",
              "      <td>0.290549</td>\n",
              "      <td>0.367007</td>\n",
              "      <td>2.276716</td>\n",
              "      <td>False</td>\n",
              "    </tr>\n",
              "    <tr>\n",
              "      <th>4</th>\n",
              "      <td>Finland</td>\n",
              "      <td>5</td>\n",
              "      <td>7.469</td>\n",
              "      <td>7.527542</td>\n",
              "      <td>7.410458</td>\n",
              "      <td>1.443572</td>\n",
              "      <td>1.540247</td>\n",
              "      <td>0.809158</td>\n",
              "      <td>0.617951</td>\n",
              "      <td>0.245483</td>\n",
              "      <td>0.382612</td>\n",
              "      <td>2.430182</td>\n",
              "      <td>False</td>\n",
              "    </tr>\n",
              "    <tr>\n",
              "      <th>...</th>\n",
              "      <td>...</td>\n",
              "      <td>...</td>\n",
              "      <td>...</td>\n",
              "      <td>...</td>\n",
              "      <td>...</td>\n",
              "      <td>...</td>\n",
              "      <td>...</td>\n",
              "      <td>...</td>\n",
              "      <td>...</td>\n",
              "      <td>...</td>\n",
              "      <td>...</td>\n",
              "      <td>...</td>\n",
              "      <td>...</td>\n",
              "    </tr>\n",
              "    <tr>\n",
              "      <th>150</th>\n",
              "      <td>Rwanda</td>\n",
              "      <td>151</td>\n",
              "      <td>3.471</td>\n",
              "      <td>3.543030</td>\n",
              "      <td>3.398970</td>\n",
              "      <td>0.368746</td>\n",
              "      <td>0.945707</td>\n",
              "      <td>0.326425</td>\n",
              "      <td>0.581844</td>\n",
              "      <td>0.252756</td>\n",
              "      <td>0.455220</td>\n",
              "      <td>0.540061</td>\n",
              "      <td>True</td>\n",
              "    </tr>\n",
              "    <tr>\n",
              "      <th>151</th>\n",
              "      <td>Syria</td>\n",
              "      <td>152</td>\n",
              "      <td>3.462</td>\n",
              "      <td>3.663669</td>\n",
              "      <td>3.260331</td>\n",
              "      <td>0.777153</td>\n",
              "      <td>0.396103</td>\n",
              "      <td>0.500533</td>\n",
              "      <td>0.081539</td>\n",
              "      <td>0.493664</td>\n",
              "      <td>0.151347</td>\n",
              "      <td>1.061574</td>\n",
              "      <td>False</td>\n",
              "    </tr>\n",
              "    <tr>\n",
              "      <th>152</th>\n",
              "      <td>Tanzania</td>\n",
              "      <td>153</td>\n",
              "      <td>3.349</td>\n",
              "      <td>3.461430</td>\n",
              "      <td>3.236570</td>\n",
              "      <td>0.511136</td>\n",
              "      <td>1.041990</td>\n",
              "      <td>0.364509</td>\n",
              "      <td>0.390018</td>\n",
              "      <td>0.354256</td>\n",
              "      <td>0.066035</td>\n",
              "      <td>0.621130</td>\n",
              "      <td>False</td>\n",
              "    </tr>\n",
              "    <tr>\n",
              "      <th>153</th>\n",
              "      <td>Burundi</td>\n",
              "      <td>154</td>\n",
              "      <td>2.905</td>\n",
              "      <td>3.074690</td>\n",
              "      <td>2.735310</td>\n",
              "      <td>0.091623</td>\n",
              "      <td>0.629794</td>\n",
              "      <td>0.151611</td>\n",
              "      <td>0.059901</td>\n",
              "      <td>0.204435</td>\n",
              "      <td>0.084148</td>\n",
              "      <td>1.683024</td>\n",
              "      <td>True</td>\n",
              "    </tr>\n",
              "    <tr>\n",
              "      <th>154</th>\n",
              "      <td>Central African Republic</td>\n",
              "      <td>155</td>\n",
              "      <td>2.693</td>\n",
              "      <td>2.864884</td>\n",
              "      <td>2.521116</td>\n",
              "      <td>0.000000</td>\n",
              "      <td>0.000000</td>\n",
              "      <td>0.018773</td>\n",
              "      <td>0.270842</td>\n",
              "      <td>0.280876</td>\n",
              "      <td>0.056565</td>\n",
              "      <td>2.066005</td>\n",
              "      <td>True</td>\n",
              "    </tr>\n",
              "  </tbody>\n",
              "</table>\n",
              "<p>155 rows × 13 columns</p>\n",
              "</div>\n",
              "      <button class=\"colab-df-convert\" onclick=\"convertToInteractive('df-94be9733-c8f9-4f9b-ae53-333224d62207')\"\n",
              "              title=\"Convert this dataframe to an interactive table.\"\n",
              "              style=\"display:none;\">\n",
              "        \n",
              "  <svg xmlns=\"http://www.w3.org/2000/svg\" height=\"24px\"viewBox=\"0 0 24 24\"\n",
              "       width=\"24px\">\n",
              "    <path d=\"M0 0h24v24H0V0z\" fill=\"none\"/>\n",
              "    <path d=\"M18.56 5.44l.94 2.06.94-2.06 2.06-.94-2.06-.94-.94-2.06-.94 2.06-2.06.94zm-11 1L8.5 8.5l.94-2.06 2.06-.94-2.06-.94L8.5 2.5l-.94 2.06-2.06.94zm10 10l.94 2.06.94-2.06 2.06-.94-2.06-.94-.94-2.06-.94 2.06-2.06.94z\"/><path d=\"M17.41 7.96l-1.37-1.37c-.4-.4-.92-.59-1.43-.59-.52 0-1.04.2-1.43.59L10.3 9.45l-7.72 7.72c-.78.78-.78 2.05 0 2.83L4 21.41c.39.39.9.59 1.41.59.51 0 1.02-.2 1.41-.59l7.78-7.78 2.81-2.81c.8-.78.8-2.07 0-2.86zM5.41 20L4 18.59l7.72-7.72 1.47 1.35L5.41 20z\"/>\n",
              "  </svg>\n",
              "      </button>\n",
              "      \n",
              "  <style>\n",
              "    .colab-df-container {\n",
              "      display:flex;\n",
              "      flex-wrap:wrap;\n",
              "      gap: 12px;\n",
              "    }\n",
              "\n",
              "    .colab-df-convert {\n",
              "      background-color: #E8F0FE;\n",
              "      border: none;\n",
              "      border-radius: 50%;\n",
              "      cursor: pointer;\n",
              "      display: none;\n",
              "      fill: #1967D2;\n",
              "      height: 32px;\n",
              "      padding: 0 0 0 0;\n",
              "      width: 32px;\n",
              "    }\n",
              "\n",
              "    .colab-df-convert:hover {\n",
              "      background-color: #E2EBFA;\n",
              "      box-shadow: 0px 1px 2px rgba(60, 64, 67, 0.3), 0px 1px 3px 1px rgba(60, 64, 67, 0.15);\n",
              "      fill: #174EA6;\n",
              "    }\n",
              "\n",
              "    [theme=dark] .colab-df-convert {\n",
              "      background-color: #3B4455;\n",
              "      fill: #D2E3FC;\n",
              "    }\n",
              "\n",
              "    [theme=dark] .colab-df-convert:hover {\n",
              "      background-color: #434B5C;\n",
              "      box-shadow: 0px 1px 3px 1px rgba(0, 0, 0, 0.15);\n",
              "      filter: drop-shadow(0px 1px 2px rgba(0, 0, 0, 0.3));\n",
              "      fill: #FFFFFF;\n",
              "    }\n",
              "  </style>\n",
              "\n",
              "      <script>\n",
              "        const buttonEl =\n",
              "          document.querySelector('#df-94be9733-c8f9-4f9b-ae53-333224d62207 button.colab-df-convert');\n",
              "        buttonEl.style.display =\n",
              "          google.colab.kernel.accessAllowed ? 'block' : 'none';\n",
              "\n",
              "        async function convertToInteractive(key) {\n",
              "          const element = document.querySelector('#df-94be9733-c8f9-4f9b-ae53-333224d62207');\n",
              "          const dataTable =\n",
              "            await google.colab.kernel.invokeFunction('convertToInteractive',\n",
              "                                                     [key], {});\n",
              "          if (!dataTable) return;\n",
              "\n",
              "          const docLinkHtml = 'Like what you see? Visit the ' +\n",
              "            '<a target=\"_blank\" href=https://colab.research.google.com/notebooks/data_table.ipynb>data table notebook</a>'\n",
              "            + ' to learn more about interactive tables.';\n",
              "          element.innerHTML = '';\n",
              "          dataTable['output_type'] = 'display_data';\n",
              "          await google.colab.output.renderOutput(dataTable, element);\n",
              "          const docLink = document.createElement('div');\n",
              "          docLink.innerHTML = docLinkHtml;\n",
              "          element.appendChild(docLink);\n",
              "        }\n",
              "      </script>\n",
              "    </div>\n",
              "  </div>\n",
              "  "
            ]
          },
          "metadata": {},
          "execution_count": 40
        }
      ]
    },
    {
      "cell_type": "code",
      "source": [
        "happy.dtypes"
      ],
      "metadata": {
        "colab": {
          "base_uri": "https://localhost:8080/"
        },
        "id": "KWaGLgJwku5Y",
        "outputId": "5a599500-be0b-4c66-a2a9-1c7069324c4b"
      },
      "execution_count": null,
      "outputs": [
        {
          "output_type": "execute_result",
          "data": {
            "text/plain": [
              "Country                           object\n",
              "Happiness.Rank                     int64\n",
              "Happiness.Score                  float64\n",
              "Whisker.high                     float64\n",
              "Whisker.low                      float64\n",
              "Economy..GDP.per.Capita.         float64\n",
              "Family                           float64\n",
              "Health..Life.Expectancy.         float64\n",
              "Freedom                          float64\n",
              "Generosity                       float64\n",
              "Trust..Government.Corruption.    float64\n",
              "Dystopia.Residual                float64\n",
              "Least.Developed                     bool\n",
              "dtype: object"
            ]
          },
          "metadata": {},
          "execution_count": 29
        }
      ]
    },
    {
      "cell_type": "code",
      "source": [
        "#Label Encode Country\n",
        "\n",
        "label_encoder = LabelEncoder()\n",
        "\n",
        "happy['Country'] = label_encoder.fit_transform(happy['Country'])\n"
      ],
      "metadata": {
        "id": "FJJ66sr8qTpI"
      },
      "execution_count": null,
      "outputs": []
    },
    {
      "cell_type": "code",
      "source": [
        "#Identify target column\n",
        "\n",
        "X = happy.drop('Happiness.Score',axis = 1)\n",
        "\n",
        "y = happy['Happiness.Score']\n"
      ],
      "metadata": {
        "id": "Zimx82kXiDYK"
      },
      "execution_count": null,
      "outputs": []
    },
    {
      "cell_type": "code",
      "source": [
        "#Split data into train and test\n",
        "\n",
        "\n",
        "X_train,X_test,y_train,y_test = train_test_split(X,y,test_size = 0.20)\n",
        "\n",
        "\n"
      ],
      "metadata": {
        "id": "EsHmJ16ceiNI"
      },
      "execution_count": null,
      "outputs": []
    },
    {
      "cell_type": "code",
      "source": [
        "#Fit the model\n",
        "\n",
        "lin_reg = LinearRegression()\n",
        "\n",
        "lin_reg.fit(X_train,y_train)\n",
        "\n",
        "\n"
      ],
      "metadata": {
        "colab": {
          "base_uri": "https://localhost:8080/"
        },
        "id": "SheGFKeJjt_L",
        "outputId": "db5b6764-47c4-49a3-e7a3-91fedc14c7da"
      },
      "execution_count": null,
      "outputs": [
        {
          "output_type": "execute_result",
          "data": {
            "text/plain": [
              "LinearRegression()"
            ]
          },
          "metadata": {},
          "execution_count": 44
        }
      ]
    },
    {
      "cell_type": "code",
      "source": [
        "lasso_model = Lasso()\n",
        "\n",
        "lasso_model.fit(X_train,y_train)\n"
      ],
      "metadata": {
        "colab": {
          "base_uri": "https://localhost:8080/"
        },
        "id": "NFi8NovcE4ph",
        "outputId": "cebabac9-7cde-45b9-b59f-20df0471e6f3"
      },
      "execution_count": null,
      "outputs": [
        {
          "output_type": "execute_result",
          "data": {
            "text/plain": [
              "Lasso()"
            ]
          },
          "metadata": {},
          "execution_count": 45
        }
      ]
    },
    {
      "cell_type": "code",
      "source": [
        "#Predict Values\n",
        "\n",
        "y_predict = lin_reg.predict(X_test)\n",
        "\n",
        "\n",
        "\n"
      ],
      "metadata": {
        "id": "ezeCDvkJrAjM"
      },
      "execution_count": null,
      "outputs": []
    },
    {
      "cell_type": "code",
      "source": [
        "y_predict2 = lasso_model.predict(X_test)\n"
      ],
      "metadata": {
        "id": "REfA-fRaE6cR"
      },
      "execution_count": null,
      "outputs": []
    },
    {
      "cell_type": "code",
      "source": [
        "#Test RMSE for Linear\n",
        "np.sqrt(mean_squared_error(y_test,y_predict))\n",
        "\n"
      ],
      "metadata": {
        "colab": {
          "base_uri": "https://localhost:8080/"
        },
        "id": "PLtEWg6BtZH8",
        "outputId": "6f609651-1c86-42d7-8c2d-e63621452c1a"
      },
      "execution_count": null,
      "outputs": [
        {
          "output_type": "execute_result",
          "data": {
            "text/plain": [
              "4.05448435436208e-15"
            ]
          },
          "metadata": {},
          "execution_count": 48
        }
      ]
    },
    {
      "cell_type": "code",
      "source": [
        "#Test RMSE for Lasso\n",
        "\n",
        "np.sqrt(mean_squared_error(y_test,y_predict2))\n",
        "\n"
      ],
      "metadata": {
        "colab": {
          "base_uri": "https://localhost:8080/"
        },
        "id": "GryJiD3PE_pT",
        "outputId": "2f30a0d1-cd90-4c2e-d5bb-c0bc0c3e6360"
      },
      "execution_count": null,
      "outputs": [
        {
          "output_type": "execute_result",
          "data": {
            "text/plain": [
              "0.11944878329382701"
            ]
          },
          "metadata": {},
          "execution_count": 47
        }
      ]
    }
  ]
}